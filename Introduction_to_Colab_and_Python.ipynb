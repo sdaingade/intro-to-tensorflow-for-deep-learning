{
 "cells": [
  {
   "cell_type": "markdown",
   "metadata": {
    "colab_type": "text",
    "id": "Za8-Nr5k11fh"
   },
   "source": [
    "##### Copyright 2018 The TensorFlow Authors."
   ]
  },
  {
   "cell_type": "code",
   "execution_count": 1,
   "metadata": {
    "cellView": "form",
    "colab": {},
    "colab_type": "code",
    "id": "Eq10uEbw0E4l"
   },
   "outputs": [],
   "source": [
    "#@title Licensed under the Apache License, Version 2.0 (the \"License\");\n",
    "# you may not use this file except in compliance with the License.\n",
    "# You may obtain a copy of the License at\n",
    "#\n",
    "# https://www.apache.org/licenses/LICENSE-2.0\n",
    "#\n",
    "# Unless required by applicable law or agreed to in writing, software\n",
    "# distributed under the License is distributed on an \"AS IS\" BASIS,\n",
    "# WITHOUT WARRANTIES OR CONDITIONS OF ANY KIND, either express or implied.\n",
    "# See the License for the specific language governing permissions and\n",
    "# limitations under the License."
   ]
  },
  {
   "cell_type": "markdown",
   "metadata": {
    "colab_type": "text",
    "id": "YHI3vyhv5p85"
   },
   "source": [
    "## **Introduction to Colab and Python**"
   ]
  },
  {
   "cell_type": "markdown",
   "metadata": {
    "colab_type": "text",
    "id": "OVi775ZJ2bsy"
   },
   "source": [
    "<table class=\"tfo-notebook-buttons\" align=\"left\">\n",
    "  <td>\n",
    "    <a target=\"_blank\" href=\"https://colab.research.google.com/github/tensorflow/examples/courses/udacity_intro_to_tensorflow_for_deep_learning/l01c01_introduction_to_colab_and_python.ipynb\"><img src=\"https://www.tensorflow.org/images/colab_logo_32px.png\" />Run in Google Colab</a>\n",
    "  </td>\n",
    "  <td>\n",
    "    <a target=\"_blank\" href=\"https://github.com/tensorflow/examples/courses/udacity_intro_to_tensorflow_for_deep_learning/l01c01_introduction_to_colab_and_python.ipynb\"><img src=\"https://www.tensorflow.org/images/GitHub-Mark-32px.png\" />View source on GitHub</a>\n",
    "  </td>\n",
    "</table>"
   ]
  },
  {
   "cell_type": "markdown",
   "metadata": {
    "colab_type": "text",
    "id": "F8YVA_634OFk"
   },
   "source": [
    "Welcome to this Colab where you will get a quick introduction to the Python programming language and the environment used for the course's excersises: Colab.\n",
    "\n",
    "Colab is a Python development environment that runs in the browser using Google Cloud. \n",
    "\n",
    "For example, to print \"Hello World\", just hover the mouse over [  ] and press the play button to the upper left. Or press shift-enter to execute."
   ]
  },
  {
   "cell_type": "code",
   "execution_count": 2,
   "metadata": {
    "colab": {},
    "colab_type": "code",
    "id": "bdLopQtuAJi4"
   },
   "outputs": [],
   "source": [
    "# Never mind this statement, for compatibility reasons\n",
    "from __future__ import absolute_import, division, print_function"
   ]
  },
  {
   "cell_type": "code",
   "execution_count": 3,
   "metadata": {
    "colab": {},
    "colab_type": "code",
    "id": "X9uIpOS2zx7k"
   },
   "outputs": [
    {
     "name": "stdout",
     "output_type": "stream",
     "text": [
      "Hello World\n"
     ]
    }
   ],
   "source": [
    "print(\"Hello World\")"
   ]
  },
  {
   "cell_type": "markdown",
   "metadata": {
    "colab_type": "text",
    "id": "wwJGmDrQ0EoB"
   },
   "source": [
    "## Functions, Conditionals, and Interation\n",
    "Let's create a Python function, and call it from a loop."
   ]
  },
  {
   "cell_type": "code",
   "execution_count": 4,
   "metadata": {
    "colab": {},
    "colab_type": "code",
    "id": "pRllo2HLfXiu"
   },
   "outputs": [
    {
     "name": "stdout",
     "output_type": "stream",
     "text": [
      "--- Now running with i: 8\n",
      "Hello World, x was < 10\n",
      "Result from HelloWorld: 8, 16\n",
      "--- Now running with i: 13\n",
      "Hello World, x was >= 10 but < 20\n",
      "Result from HelloWorld: 13, 26\n",
      "--- Now running with i: 18\n",
      "Hello World, x was >= 10 but < 20\n",
      "Result from HelloWorld: 18, 36\n",
      "--- Now running with i: 23\n",
      "Hello World, x was >= 20\n",
      "Result from HelloWorld: 23, 46\n"
     ]
    }
   ],
   "source": [
    "def HelloWorldXY(x, y):\n",
    "  if (x < 10):\n",
    "    print(\"Hello World, x was < 10\")\n",
    "  elif (x < 20):\n",
    "    print(\"Hello World, x was >= 10 but < 20\")\n",
    "  else:\n",
    "    print(\"Hello World, x was >= 20\")\n",
    "  return x + y\n",
    "\n",
    "for i in range(8, 25, 5):  # i=8, 13, 18, 23 (start, stop, step)\n",
    "  print(\"--- Now running with i: {}\".format(i))\n",
    "  r = HelloWorldXY(i,i)\n",
    "  print(\"Result from HelloWorld: {}, {}\".format(i, r))"
   ]
  },
  {
   "cell_type": "code",
   "execution_count": 5,
   "metadata": {
    "colab": {},
    "colab_type": "code",
    "id": "lHNmDCh0JpVP"
   },
   "outputs": [
    {
     "name": "stdout",
     "output_type": "stream",
     "text": [
      "Hello World, x was < 10\n",
      "3\n"
     ]
    }
   ],
   "source": [
    "print(HelloWorldXY(1,2))"
   ]
  },
  {
   "cell_type": "markdown",
   "metadata": {
    "colab_type": "text",
    "id": "kiZG7uhm8qCF"
   },
   "source": [
    "Easy, right?\n",
    "\n",
    "If you want a loop starting at 0 to 2 (exclusive) you could do any of the following"
   ]
  },
  {
   "cell_type": "code",
   "execution_count": 6,
   "metadata": {
    "colab": {},
    "colab_type": "code",
    "id": "m8YQN1H41L-Y"
   },
   "outputs": [
    {
     "name": "stdout",
     "output_type": "stream",
     "text": [
      "Iterate over the items. `range(2)` is like a list [0,1].\n",
      "0\n",
      "1\n",
      "Iterate over an actual list.\n",
      "0\n",
      "1\n",
      "While works\n",
      "0\n",
      "1\n"
     ]
    }
   ],
   "source": [
    "print(\"Iterate over the items. `range(2)` is like a list [0,1].\")\n",
    "for i in range(2):\n",
    "  print(i)\n",
    "\n",
    "print(\"Iterate over an actual list.\")\n",
    "for i in [0,1]:\n",
    "  print(i)\n",
    "\n",
    "print(\"While works\")\n",
    "i = 0\n",
    "while i < 2:\n",
    "  print(i)\n",
    "  i += 1"
   ]
  },
  {
   "cell_type": "code",
   "execution_count": 7,
   "metadata": {
    "colab": {},
    "colab_type": "code",
    "id": "vIgmFZq4zszl"
   },
   "outputs": [
    {
     "name": "stdout",
     "output_type": "stream",
     "text": [
      "Python supports standard key words like continue and break\n",
      "Entered while\n"
     ]
    }
   ],
   "source": [
    "print(\"Python supports standard key words like continue and break\")\n",
    "while True:\n",
    "  print(\"Entered while\")\n",
    "  break"
   ]
  },
  {
   "cell_type": "markdown",
   "metadata": {
    "colab_type": "text",
    "id": "5QyOUhFw1OUX"
   },
   "source": [
    "## Numpy and lists\n",
    "Python has lists built into the language.\n",
    "However, we will use a library called numpy for this.\n",
    "Numpy gives you lot's of support functions that are useful when doing Machine Learning.\n",
    "\n",
    "Here, you will also see an import statement. This statement makes the entire numpy package available and we can access those symbols using the abbreviated 'np' syntax."
   ]
  },
  {
   "cell_type": "code",
   "execution_count": 8,
   "metadata": {
    "colab": {},
    "colab_type": "code",
    "id": "4Dxk4q-jzEy4"
   },
   "outputs": [
    {
     "name": "stdout",
     "output_type": "stream",
     "text": [
      "Current array: ['Hello' 'World' '!']\n",
      "Printing each element\n",
      "Hello\n",
      "World\n",
      "!\n",
      "\n",
      "Printing each element and their index\n",
      "Index: 0, was: Hello\n",
      "Index: 1, was: World\n",
      "Index: 2, was: !\n"
     ]
    }
   ],
   "source": [
    "import numpy as np  # Make numpy available using np.\n",
    "\n",
    "# Create a numpy array, and append an element\n",
    "a = np.array([\"Hello\", \"World\"])\n",
    "a = np.append(a, \"!\")\n",
    "print(\"Current array: {}\".format(a))\n",
    "print(\"Printing each element\")\n",
    "for i in a:\n",
    "  print(i)\n",
    "\n",
    "print(\"\\nPrinting each element and their index\")\n",
    "for i,e in enumerate(a):\n",
    "  print(\"Index: {}, was: {}\".format(i, e))"
   ]
  },
  {
   "cell_type": "code",
   "execution_count": 9,
   "metadata": {
    "colab": {},
    "colab_type": "code",
    "id": "RTa8_9G3LV03"
   },
   "outputs": [
    {
     "name": "stdout",
     "output_type": "stream",
     "text": [
      "\n",
      "Showing some basic math on arrays\n",
      "Max: 4\n",
      "Average: 2.0\n",
      "Max index: 2\n"
     ]
    }
   ],
   "source": [
    "print(\"\\nShowing some basic math on arrays\")\n",
    "b = np.array([0,1,4,3,2])\n",
    "print(\"Max: {}\".format(np.max(b)))\n",
    "print(\"Average: {}\".format(np.average(b)))\n",
    "print(\"Max index: {}\".format(np.argmax(b)))"
   ]
  },
  {
   "cell_type": "code",
   "execution_count": 10,
   "metadata": {
    "colab": {},
    "colab_type": "code",
    "id": "9YaGj5n4LW7P"
   },
   "outputs": [
    {
     "name": "stdout",
     "output_type": "stream",
     "text": [
      "\n",
      "You can print the type of anything\n",
      "Type of b: <class 'numpy.ndarray'>, type of b[0]: <class 'numpy.str_'>\n"
     ]
    }
   ],
   "source": [
    "print(\"\\nYou can print the type of anything\")\n",
    "print(\"Type of b: {}, type of b[0]: {}\".format(type(a), type(a[0])))"
   ]
  },
  {
   "cell_type": "code",
   "execution_count": 11,
   "metadata": {
    "colab": {},
    "colab_type": "code",
    "id": "V6ilVhi9LXn_"
   },
   "outputs": [
    {
     "name": "stdout",
     "output_type": "stream",
     "text": [
      "\n",
      "Use numpy to create a [3,3] dimension array with random number\n",
      "[[0.50317461 0.28739587 0.13254346]\n",
      " [0.72504985 0.35092019 0.48947783]\n",
      " [0.66891837 0.20829892 0.9980179 ]]\n"
     ]
    }
   ],
   "source": [
    "print(\"\\nUse numpy to create a [3,3] dimension array with random number\")\n",
    "c = np.random.rand(3, 3)\n",
    "print(c)"
   ]
  },
  {
   "cell_type": "code",
   "execution_count": 12,
   "metadata": {
    "colab": {},
    "colab_type": "code",
    "id": "W_Q-DkFCLYGA"
   },
   "outputs": [
    {
     "name": "stdout",
     "output_type": "stream",
     "text": [
      "\n",
      "You can print the dimensions of arrays\n",
      "Shape of a: (3,)\n",
      "Shape of b: (5,)\n",
      "Shape of c: (3, 3)\n",
      "...Observe, Python uses both [0,1,2] and (0,1,2) to specify lists\n"
     ]
    }
   ],
   "source": [
    "print(\"\\nYou can print the dimensions of arrays\")\n",
    "print(\"Shape of a: {}\".format(a.shape))\n",
    "print(\"Shape of b: {}\".format(b.shape))\n",
    "print(\"Shape of c: {}\".format(c.shape))\n",
    "print(\"...Observe, Python uses both [0,1,2] and (0,1,2) to specify lists\")"
   ]
  },
  {
   "cell_type": "markdown",
   "metadata": {
    "colab_type": "text",
    "id": "c-Jk4dG91dvD"
   },
   "source": [
    "## Colab Specifics"
   ]
  },
  {
   "cell_type": "markdown",
   "metadata": {
    "colab_type": "text",
    "id": "G0cGd8sHEmKi"
   },
   "source": [
    "Colab is a virtual machine you can access directly. To run commands at the VM's terminal, prefix the line with an exclamation point (!).\n",
    "\n"
   ]
  },
  {
   "cell_type": "code",
   "execution_count": 13,
   "metadata": {
    "colab": {},
    "colab_type": "code",
    "id": "cLkfhyzq0W2y"
   },
   "outputs": [
    {
     "name": "stdout",
     "output_type": "stream",
     "text": [
      "\n",
      "Doing $ls on filesystem\n"
     ]
    },
    {
     "name": "stderr",
     "output_type": "stream",
     "text": [
      "'ls' is not recognized as an internal or external command,\n",
      "operable program or batch file.\n",
      "'pwd' is not recognized as an internal or external command,\n",
      "operable program or batch file.\n",
      "'uname' is not recognized as an internal or external command,\n",
      "operable program or batch file.\n",
      "'cat' is not recognized as an internal or external command,\n",
      "operable program or batch file.\n",
      "'df' is not recognized as an internal or external command,\n",
      "operable program or batch file.\n"
     ]
    }
   ],
   "source": [
    "print(\"\\nDoing $ls on filesystem\")\n",
    "!ls -l\n",
    "!pwd\n",
    "!uname -a\n",
    "!cat /etc/*release*\n",
    "!df -h\n",
    "\n"
   ]
  },
  {
   "cell_type": "code",
   "execution_count": 16,
   "metadata": {
    "colab": {},
    "colab_type": "code",
    "id": "gR2WTN1cOZ1n"
   },
   "outputs": [
    {
     "name": "stdout",
     "output_type": "stream",
     "text": [
      "Install numpy\n",
      "Requirement already satisfied: numpy in c:\\programdata\\anaconda3\\lib\\site-packages (1.16.2)\n"
     ]
    }
   ],
   "source": [
    "print(\"Install numpy\")  # Just for test, numpy is actually preinstalled in all Colab instancs\n",
    "!pip install numpy"
   ]
  },
  {
   "cell_type": "markdown",
   "metadata": {
    "colab_type": "text",
    "id": "QuWRpQdatAIU"
   },
   "source": [
    "**Exercise**\n",
    "\n",
    "Create a code cell underneath this text cell and add code to:\n",
    "\n",
    "\n",
    "*   List the path of the current directory (pwd)\n",
    "* Go to / (cd) and list the content (ls -l)"
   ]
  },
  {
   "cell_type": "code",
   "execution_count": 15,
   "metadata": {
    "colab": {},
    "colab_type": "code",
    "id": "xU-cJbMCR61P"
   },
   "outputs": [
    {
     "name": "stderr",
     "output_type": "stream",
     "text": [
      "'pwd' is not recognized as an internal or external command,\n",
      "operable program or batch file.\n"
     ]
    },
    {
     "name": "stdout",
     "output_type": "stream",
     "text": [
      "Hello\n"
     ]
    },
    {
     "name": "stderr",
     "output_type": "stream",
     "text": [
      "'ls' is not recognized as an internal or external command,\n",
      "operable program or batch file.\n"
     ]
    }
   ],
   "source": [
    "!pwd\n",
    "!cd /\n",
    "!ls -l\n",
    "print(\"Hello\")"
   ]
  },
  {
   "cell_type": "markdown",
   "metadata": {
    "colab_type": "text",
    "id": "7b5jv0ouFREV"
   },
   "source": [
    "All usage of Colab in this course is completely free or charge. Even GPU usage is provided free of charge for some hours of usage every day.\n",
    "\n",
    "**Using GPUs**\n",
    "* Many of the extercises in the course executes more quickly by using GPU runtime: Runtime | Change runtime type | Hardware accelerator | GPU\n",
    "\n",
    "**Some final words on Colab**\n",
    "*   You execute each cell in order, you can edit & re-execute cells if you want\n",
    "*   Sometimes, this could have unintended consequences. For example, if you add a dimension to an array and execute the cell multiple times, then the cells after may not work. If you encounter problem reset your environment:\n",
    "  *   Runtime -> Restart runtime... Resets your Python shell\n",
    "  *   Runtime -> Restart all runtimes... Will reset the Colab image, and get you back to a 100% clean environment\n",
    "* You can also clear the output in the Colab by doing: Edit -> Clear all outputs\n",
    "* Colabs in this course are loaded from GitHub. Save to your Google Drive if you want a copy with your code/output: File -> Save a copy in Drive...\n",
    "\n",
    "**Learn More**\n",
    "*   Check out [this](https://www.youtube.com/watch?v=inN8seMm7UI&list=PLQY2H8rRoyvwLbzbnKJ59NkZvQAW9wLbx&index=3) episode of #CodingTensorFlow, and don't forget to subscribe to the YouTube channel ;)\n"
   ]
  }
 ],
 "metadata": {
  "accelerator": "GPU",
  "colab": {
   "collapsed_sections": [],
   "name": "Introduction to Colab and Python",
   "private_outputs": true,
   "provenance": [],
   "toc_visible": true,
   "version": "0.3.2"
  },
  "kernelspec": {
   "display_name": "Python 3",
   "language": "python",
   "name": "python3"
  },
  "language_info": {
   "codemirror_mode": {
    "name": "ipython",
    "version": 3
   },
   "file_extension": ".py",
   "mimetype": "text/x-python",
   "name": "python",
   "nbconvert_exporter": "python",
   "pygments_lexer": "ipython3",
   "version": "3.6.8"
  }
 },
 "nbformat": 4,
 "nbformat_minor": 1
}
